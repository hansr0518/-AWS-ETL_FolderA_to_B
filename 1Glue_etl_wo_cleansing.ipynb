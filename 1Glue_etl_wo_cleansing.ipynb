{
 "cells": [
  {
   "cell_type": "code",
   "execution_count": null,
   "metadata": {},
   "outputs": [],
   "source": [
    "import sys\n",
    "from awsglue.transforms import *\n",
    "from awsglue.utils import getResolvedOptions\n",
    "from pyspark.context import SparkContext\n",
    "from awsglue.context import GlueContext\n",
    "from awsglue.job import Job\n",
    "\n",
    "#  Glue context is a wrapper on the spark context\n",
    "\n",
    "args = getResolvedOptions(sys.argv, ['JOB_NAME'])\n",
    "sc = SparkContext()\n",
    "glueContext = GlueContext(sc)\n",
    "spark = glueContext.spark_session\n",
    "job = Job(glueContext)\n",
    "job.init(args['JOB_NAME'], args)\n",
    "\n",
    "datasource0 = glueContext.create_dynamic_frame.from_catalog(database = \"edu_db\", table_name = \"score\", transformation_ctx = \"datasource0\")\n",
    "datasource1 = glueContext.create_dynamic_frame.from_catalog(database = \"edu_db\", table_name = \"subject\", transformation_ctx = \"datasource1\")\n",
    "datasource2 = glueContext.create_dynamic_frame.from_catalog(database = \"edu_db\", table_name = \"st_id\", transformation_ctx = \"datasource2\")\n",
    "\n",
    "#if there is a null field, delete it.\n",
    "dropnullfields0 = DropNullFields.apply(frame = datasource0, transformation_ctx = \"dropnullfields0\")\n",
    "dropnullfields1= DropNullFields.apply(frame =datasource1, transformation_ctx = \"dropnullfields1\")\n",
    "dropnullfields2 = DropNullFields.apply(frame = datasource2, transformation_ctx = \"dropnullfields2\")\n",
    "\n",
    "datasink0 = glueContext.write_dynamic_frame.from_options(frame = dropnullfields0, connection_type = \"s3\", connection_options = {\"path\": \"s3://dev/score_etl\"}, format = \"parquet\", transformation_ctx = \"datasink0\")\n",
    "datasink1 = glueContext.write_dynamic_frame.from_options(frame = dropnullfields1, connection_type = \"s3\", connection_options = {\"path\": \"s3://dev/subject_etl\"}, format = \"parquet\", transformation_ctx = \"datasink1\")\n",
    "datasink2 = glueContext.write_dynamic_frame.from_options(frame = dropnullfields2, connection_type = \"s3\", connection_options = {\"path\": \"s3://dev/st_id_etl\"}, format = \"parquet\", transformation_ctx = \"datasink2\")\n",
    "\n",
    "job.commit()"
   ]
  }
 ],
 "metadata": {
  "kernelspec": {
   "display_name": "Python 3",
   "language": "python",
   "name": "python3"
  },
  "language_info": {
   "codemirror_mode": {
    "name": "ipython",
    "version": 3
   },
   "file_extension": ".py",
   "mimetype": "text/x-python",
   "name": "python",
   "nbconvert_exporter": "python",
   "pygments_lexer": "ipython3",
   "version": "3.6.7"
  }
 },
 "nbformat": 4,
 "nbformat_minor": 2
}
