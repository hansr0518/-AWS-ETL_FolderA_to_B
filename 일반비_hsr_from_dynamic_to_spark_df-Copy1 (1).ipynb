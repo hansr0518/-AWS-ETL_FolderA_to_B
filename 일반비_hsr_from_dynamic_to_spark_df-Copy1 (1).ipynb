{
 "cells": [
  {
   "cell_type": "code",
   "execution_count": 1,
   "metadata": {},
   "outputs": [
    {
     "name": "stdout",
     "output_type": "stream",
     "text": [
      "Starting Spark application\n"
     ]
    },
    {
     "data": {
      "text/html": [
       "<table>\n",
       "<tr><th>ID</th><th>YARN Application ID</th><th>Kind</th><th>State</th><th>Spark UI</th><th>Driver log</th><th>Current session?</th></tr><tr><td>3</td><td>application_1574832680492_0004</td><td>pyspark</td><td>idle</td><td><a target=\"_blank\" href=\"http://ip-172-32-175-52.ec2.internal:20888/proxy/application_1574832680492_0004/\">Link</a></td><td><a target=\"_blank\" href=\"http://ip-172-32-178-127.ec2.internal:8042/node/containerlogs/container_1574832680492_0004_01_000001/livy\">Link</a></td><td>✔</td></tr></table>"
      ],
      "text/plain": [
       "<IPython.core.display.HTML object>"
      ]
     },
     "metadata": {},
     "output_type": "display_data"
    },
    {
     "data": {
      "application/vnd.jupyter.widget-view+json": {
       "model_id": "c58a3a4d949c4e99aa3208e23145aae0",
       "version_major": 2,
       "version_minor": 0
      },
      "text/plain": [
       "FloatProgress(value=0.0, bar_style='info', description='Progress:', layout=Layout(height='25px', width='50%'),…"
      ]
     },
     "metadata": {},
     "output_type": "display_data"
    },
    {
     "name": "stdout",
     "output_type": "stream",
     "text": [
      "SparkSession available as 'spark'.\n"
     ]
    },
    {
     "data": {
      "application/vnd.jupyter.widget-view+json": {
       "model_id": "303567f1c5f345aaad518f62c24ce767",
       "version_major": 2,
       "version_minor": 0
      },
      "text/plain": [
       "FloatProgress(value=0.0, bar_style='info', description='Progress:', layout=Layout(height='25px', width='50%'),…"
      ]
     },
     "metadata": {},
     "output_type": "display_data"
    }
   ],
   "source": [
    "import sys\n",
    "from awsglue.transforms import *\n",
    "from awsglue.utils import getResolvedOptions\n",
    "from pyspark.context import SparkContext\n",
    "from awsglue.context import GlueContext\n",
    "from awsglue.job import Job\n",
    "from awsglue.dynamicframe import DynamicFrame\n",
    "from pyspark.sql.functions import from_unixtime,col\n"
   ]
  },
  {
   "cell_type": "code",
   "execution_count": 2,
   "metadata": {},
   "outputs": [
    {
     "data": {
      "application/vnd.jupyter.widget-view+json": {
       "model_id": "0a23d6f6a3154c219fe4121f66750015",
       "version_major": 2,
       "version_minor": 0
      },
      "text/plain": [
       "FloatProgress(value=0.0, bar_style='info', description='Progress:', layout=Layout(height='25px', width='50%'),…"
      ]
     },
     "metadata": {},
     "output_type": "display_data"
    }
   ],
   "source": [
    "glueContext = GlueContext(SparkContext.getOrCreate())"
   ]
  },
  {
   "cell_type": "code",
   "execution_count": 3,
   "metadata": {},
   "outputs": [
    {
     "data": {
      "application/vnd.jupyter.widget-view+json": {
       "model_id": "3f8ae35733d1435a92faac4329d43df5",
       "version_major": 2,
       "version_minor": 0
      },
      "text/plain": [
       "FloatProgress(value=0.0, bar_style='info', description='Progress:', layout=Layout(height='25px', width='50%'),…"
      ]
     },
     "metadata": {},
     "output_type": "display_data"
    }
   ],
   "source": [
    "db_name = 'db'\n",
    "tbl_name = 'table1'\n",
    "dynamic_frame_a = glueContext.create_dynamic_frame.from_catalog(database = db_name, table_name = tbl_name)\n"
   ]
  },
  {
   "cell_type": "code",
   "execution_count": 4,
   "metadata": {
    "collapsed": true,
    "jupyter": {
     "outputs_hidden": true
    }
   },
   "outputs": [
    {
     "data": {
      "application/vnd.jupyter.widget-view+json": {
       "model_id": "c07330e6e0194d298fc1ab5a42a60a34",
       "version_major": 2,
       "version_minor": 0
      },
      "text/plain": [
       "FloatProgress(value=0.0, bar_style='info', description='Progress:', layout=Layout(height='25px', width='50%'),…"
      ]
     },
     "metadata": {},
     "output_type": "display_data"
    },
    {
     "name": "stdout",
     "output_type": "stream",
     "text": [
      "root\n",
      "|-- processing_time: long\n",
      "|-- record_timestamp: long\n",
      "|-- .... \n",
      "|-- partition_3: string"
     ]
    }
   ],
   "source": [
    "dynamic_frame_a.printSchema()\n"
   ]
  },
  {
   "cell_type": "code",
   "execution_count": 5,
   "metadata": {},
   "outputs": [
    {
     "data": {
      "application/vnd.jupyter.widget-view+json": {
       "model_id": "4b7d4953de054f31a1d18c22c7d7e133",
       "version_major": 2,
       "version_minor": 0
      },
      "text/plain": [
       "FloatProgress(value=0.0, bar_style='info', description='Progress:', layout=Layout(height='25px', width='50%'),…"
      ]
     },
     "metadata": {},
     "output_type": "display_data"
    },
    {
     "name": "stdout",
     "output_type": "stream",
     "text": [
      "10000"
     ]
    }
   ],
   "source": [
    "dynamic_frame_a.count()"
   ]
  },
  {
   "cell_type": "code",
   "execution_count": 6,
   "metadata": {
    "collapsed": true,
    "jupyter": {
     "outputs_hidden": true
    }
   },
   "outputs": [
    {
     "data": {
      "application/vnd.jupyter.widget-view+json": {
       "model_id": "d913a3882a1f46e39f37b9bfd36d92bf",
       "version_major": 2,
       "version_minor": 0
      },
      "text/plain": [
       "FloatProgress(value=0.0, bar_style='info', description='Progress:', layout=Layout(height='25px', width='50%'),…"
      ]
     },
     "metadata": {},
     "output_type": "display_data"
    },
    {
     "name": "stdout",
     "output_type": "stream",
     "text": [
      "+---------------+--------+--------+---+-----------------+\n",
      "|   timestamp_na| value_a| value_b|...|           format|\n",
      "+---------------+--------+--------+---+-----------------+\n",
      "|  1556065073077|   155.0|    null|...|compacted.parquet|\n",
      "|  1556657541428|   155.0|    null|...|compacted.parquet|\n",
      "|  1556065073077|   155.0|    null|...|compacted.parquet|\n",
      "|  1556657541428|   155.0|    null|...|compacted.parquet|\n",
      "|  1556065073077|   155.0|    null|...|compacted.parquet|\n",
      "+---------------+--------+--------+---+-----------------+\n",
      "only showing top 5 rows"
     ]
    }
   ],
   "source": [
    "df_a = dynamic_frame_a.toDF()\n",
    "df_a.show(5)"
   ]
  },
  {
   "cell_type": "code",
   "execution_count": 7,
   "metadata": {
    "collapsed": true,
    "jupyter": {
     "outputs_hidden": true
    }
   },
   "outputs": [
    {
     "data": {
      "application/vnd.jupyter.widget-view+json": {
       "model_id": "ea556f75b3454b03ac8cd50b5d2de899",
       "version_major": 2,
       "version_minor": 0
      },
      "text/plain": [
       "FloatProgress(value=0.0, bar_style='info', description='Progress:', layout=Layout(height='25px', width='50%'),…"
      ]
     },
     "metadata": {},
     "output_type": "display_data"
    },
    {
     "name": "stdout",
     "output_type": "stream",
     "text": [
      "root\n",
      " |-- processing_time: long (nullable = true)\n",
      " |-- record_timestamp: long (nullable = true)\n",
      " |-- ainat160_value_d: double (nullable = true)\n",
      " |-- ainat161_value_d: null (nullable = true)\n",
      " |-- ainat162_value_d: null (nullable = true)\n",
      " |-- ainbsc001_status1_value_d: double (nullable = true)\n",
      " |-- ainbsc001_status2_value_d: double (nullable = true)\n",
      " |-- ainct430_value_d: double (nullable = true)\n",
      " |-- ainct435_value_d: null (nullable = true)\n",
      " |-- ainct450_value_d: double (nullable = true)\n",
      " |-- ainextpowmeas_value_d: double (nullable = true)\n",
      " |-- ainfan150control_value_d: double (nullable = true)\n",
      " |-- ainft000hrm_value_d: double (nullable = true)\n",
      " |-- ainft012_value_d: double (nullable = true)\n",
      " |-- ainft140_value_d: double (nullable = true)\n",
      " |-- ainft470_value_d: double (nullable = true)\n",
      " |-- ainft490hrm_value_d: double (nullable = true)\n",
      " |-- ainft491_value_d: double (nullable = true)\n",
      " |-- ainft800hrm_value_d: double (nullable = true)\n",
      " |-- ainft801_value_d: double (nullable = true)\n",
      " |-- ainft880hrm_value_d: double (nullable = true)\n",
      " |-- ainft881_value_d: double (nullable = true)\n",
      " |-- ainhtr160ab_status_value_d: double (nullable = true)\n",
      " |-- ainhtr310a_status_value_d: double (nullable = true)\n",
      " |-- ainhtr310b_status_value_d: double (nullable = true)\n",
      " |-- ainhtr310c_status_value_d: double (nullable = true)\n",
      " |-- ainhtr310d_status_value_d: double (nullable = true)\n",
      " |-- ainhtr311a_status_value_d: double (nullable = true)\n",
      " |-- ainhtr311b_status_value_d: double (nullable = true)\n",
      " |-- ainhtr311c_status_value_d: double (nullable = true)\n",
      " |-- ainhtr311d_status_value_d: double (nullable = true)\n",
      " |-- ainjt101hrm_value_d: double (nullable = true)\n",
      " |-- ainjt102_value_d: double (nullable = true)\n",
      " |-- ainjt102hrm_value_d: double (nullable = true)\n",
      " |-- ainjt103_value_d: double (nullable = true)\n",
      " |-- ainjt104_value_d: double (nullable = true)\n",
      " |-- ainjt105_value_d: double (nullable = true)\n",
      " |-- ainlt400_value_d: double (nullable = true)\n",
      " |-- ainlt435_value_d: null (nullable = true)\n",
      " |-- ainlt450_value_d: double (nullable = true)\n",
      " |-- ainpcs_acfrequency_value_d: double (nullable = true)\n",
      " |-- ainpcs_ct001_value_d: null (nullable = true)\n",
      " |-- ainpcs_ct001a_value_d: double (nullable = true)\n",
      " |-- ainpcs_ct001b_value_d: double (nullable = true)\n",
      " |-- ainpcs_ct001c_value_d: double (nullable = true)\n",
      " |-- ainpcs_ecs_temp_value_d: double (nullable = true)\n",
      " |-- ainpcs_esm_enclosuretemp_value_d: double (nullable = true)\n",
      " |-- ainpcs_esm_inletairtemp_value_d: double (nullable = true)\n",
      " |-- ainpcs_fan150_status_value_d: double (nullable = true)\n",
      " |-- ainpcs_faultword1_value_d: double (nullable = true)\n",
      " |-- ainpcs_faultword2_value_d: null (nullable = true)\n",
      " |-- ainpcs_gridstatusword1_value_d: double (nullable = true)\n",
      " |-- ainpcs_gridvac_ab_value_d: double (nullable = true)\n",
      " |-- ainpcs_gridvac_bc_value_d: double (nullable = true)\n",
      " |-- ainpcs_gridvac_ca_value_d: double (nullable = true)\n",
      " |-- ainpcs_invvac_ab_value_d: double (nullable = true)\n",
      " |-- ainpcs_invvac_bc_value_d: double (nullable = true)\n",
      " |-- ainpcs_invvac_ca_value_d: double (nullable = true)\n",
      " |-- ainpcs_invvac_value_d: null (nullable = true)\n",
      " |-- ainpcs_kwacnet_value_d: double (nullable = true)\n",
      " |-- ainpcs_mainstateword_value_d: double (nullable = true)\n",
      " |-- ainpcs_pcs100_avail_value_d: null (nullable = true)\n",
      " |-- ainpcs_pcs100_moduleavail_valu_d: double (nullable = true)\n",
      " |-- ainpcs_pcs_enclosuretemp_value_d: double (nullable = true)\n",
      " |-- ainpcs_sod152_command_value_d: double (nullable = true)\n",
      " |-- ainpcs_statuswordin1_value_d: double (nullable = true)\n",
      " |-- ainpcs_statuswordin2_value_d: double (nullable = true)\n",
      " |-- ainpcs_temp_value_d: double (nullable = true)\n",
      " |-- ainpcs_warningword_value_d: double (nullable = true)\n",
      " |-- ainpcs_zt152_value_d: double (nullable = true)\n",
      " |-- ainpdt012_value_d: double (nullable = true)\n",
      " |-- ainpdt110_value_d: double (nullable = true)\n",
      " |-- ainpdt402_value_d: double (nullable = true)\n",
      " |-- ainpowsetpt_value_d: double (nullable = true)\n",
      " |-- ainpt012_value_d: double (nullable = true)\n",
      " |-- ainpt510_value_d: double (nullable = true)\n",
      " |-- ainte001_value_d: double (nullable = true)\n",
      " |-- ainte002_value_d: double (nullable = true)\n",
      " |-- ainte003_value_d: null (nullable = true)\n",
      " |-- ainte004_value_d: null (nullable = true)\n",
      " |-- ainte005_value_d: double (nullable = true)\n",
      " |-- ainte006_value_d: null (nullable = true)\n",
      " |-- ainte010_value_d: double (nullable = true)\n",
      " |-- ainte011_value_d: double (nullable = true)\n",
      " |-- ainte012a_value_d: null (nullable = true)\n",
      " |-- ainte012b_value_d: double (nullable = true)\n",
      " |-- ainte012c_value_d: null (nullable = true)\n",
      " |-- ainte012d_value_d: null (nullable = true)\n",
      " |-- ainte012e_value_d: null (nullable = true)\n",
      " |-- ainte012f_value_d: double (nullable = true)\n",
      " |-- ainte012g_value_d: null (nullable = true)\n",
      " |-- ainte012h_value_d: double (nullable = true)\n",
      " |-- ainte030_value_d: null (nullable = true)\n",
      " |-- ainte120_value_d: double (nullable = true)\n",
      " |-- ainte150a_value_d: double (nullable = true)\n",
      " |-- ainte150b_value_d: double (nullable = true)\n",
      " |-- ainte160_value_d: null (nullable = true)\n",
      " |-- ainte161_value_d: double (nullable = true)\n",
      " |-- ainte310_value_d: double (nullable = true)\n",
      " |-- ainte320a_value_d: double (nullable = true)\n",
      " |-- ainte320b_value_d: double (nullable = true)\n",
      " |-- ainte320c_value_d: double (nullable = true)\n",
      " |-- ainte320d_value_d: double (nullable = true)\n",
      " |-- ainte321a_value_d: double (nullable = true)\n",
      " |-- ainte321b_value_d: double (nullable = true)\n",
      " |-- ainte321c_value_d: double (nullable = true)\n",
      " |-- ainte321d_value_d: double (nullable = true)\n",
      " |-- ainte330_value_d: double (nullable = true)\n",
      " |-- ainte335_value_d: null (nullable = true)\n",
      " |-- ainte350_value_d: null (nullable = true)\n",
      " |-- ainte400_value_d: double (nullable = true)\n",
      " |-- ainte400r_value_d: double (nullable = true)\n",
      " |-- ainte401_value_d: double (nullable = true)\n",
      " |-- ainte401b_value_d: double (nullable = true)\n",
      " |-- ainte431_value_d: double (nullable = true)\n",
      " |-- ainte470_value_d: double (nullable = true)\n",
      " |-- ainte470hrm_value_d: double (nullable = true)\n",
      " |-- ainte471_value_d: double (nullable = true)\n",
      " |-- ainte471hrm_value_d: double (nullable = true)\n",
      " |-- ainte489hrm_value_d: double (nullable = true)\n",
      " |-- ainte490_value_d: double (nullable = true)\n",
      " |-- ainte490alt_value_d: double (nullable = true)\n",
      " |-- ainte490hrm_value_d: double (nullable = true)\n",
      " |-- ainte491_value_d: double (nullable = true)\n",
      " |-- ainte492_value_d: double (nullable = true)\n",
      " |-- ainte800_value_d: double (nullable = true)\n",
      " |-- ainte800alt_value_d: double (nullable = true)\n",
      " |-- ainte800hrm_value_d: double (nullable = true)\n",
      " |-- ainte810hrm_value_d: double (nullable = true)\n",
      " |-- ainte811_value_d: double (nullable = true)\n",
      " |-- ainte820_value_d: double (nullable = true)\n",
      " |-- ainte821_value_d: double (nullable = true)\n",
      " |-- ainte832_value_d: double (nullable = true)\n",
      " |-- ainte880hrm_value_d: double (nullable = true)\n",
      " |-- ainte881hrm_value_d: double (nullable = true)\n",
      " |-- ainte882_value_d: double (nullable = true)\n",
      " |-- ainte883_value_d: double (nullable = true)\n",
      " |-- ainte900_value_d: double (nullable = true)\n",
      " |-- ainte900out_status_value_d: double (nullable = true)\n",
      " |-- ainte901_value_d: null (nullable = true)\n",
      " |-- ainte902_value_d: null (nullable = true)\n",
      " |-- ainte910_value_d: double (nullable = true)\n",
      " |-- ainte911_value_d: null (nullable = true)\n",
      " |-- ainte912_value_d: null (nullable = true)\n",
      " |-- ainvsd110alarm_value_d: double (nullable = true)\n",
      " |-- ainvsd110curr_value_d: double (nullable = true)\n",
      " |-- ainvsd110fault1_value_d: double (nullable = true)\n",
      " |-- ainvsd110fault2_value_d: double (nullable = true)\n",
      " |-- ainvsd110freq_value_d: double (nullable = true)\n",
      " |-- ainvsd140alarm_value_d: double (nullable = true)\n",
      " |-- ainvsd140curr_value_d: double (nullable = true)\n",
      " |-- ainvsd140fault1_value_d: double (nullable = true)\n",
      " |-- ainvsd140fault2_value_d: double (nullable = true)\n",
      " |-- ainvsd140freq_value_d: double (nullable = true)\n",
      " |-- ainvsd150alarm_value_d: double (nullable = true)\n",
      " |-- ainvsd150curr_value_d: double (nullable = true)\n",
      " |-- ainvsd150fault1_value_d: double (nullable = true)\n",
      " |-- ainvsd150fault2_value_d: double (nullable = true)\n",
      " |-- ainvsd151alarm_value_d: double (nullable = true)\n",
      " |-- ainvsd151curr_value_d: double (nullable = true)\n",
      " |-- ainvsd151fault1_value_d: double (nullable = true)\n",
      " |-- ainvsd151fault2_value_d: double (nullable = true)\n",
      " |-- ainvsd160alarm_value_d: double (nullable = true)\n",
      " |-- ainvsd160curr_value_d: double (nullable = true)\n",
      " |-- ainvsd160fault1_value_d: double (nullable = true)\n",
      " |-- ainvsd160fault2_value_d: double (nullable = true)\n",
      " |-- ainvsd400alarm_value_d: double (nullable = true)\n",
      " |-- ainvsd400curr_value_d: double (nullable = true)\n",
      " |-- ainvsd400fault1_value_d: double (nullable = true)\n",
      " |-- ainvsd400fault2_value_d: double (nullable = true)\n",
      " |-- ainvsd450alarm_value_d: double (nullable = true)\n",
      " |-- ainvsd450curr_value_d: double (nullable = true)\n",
      " |-- ainvsd450fault1_value_d: double (nullable = true)\n",
      " |-- ainvsd450fault2_value_d: double (nullable = true)\n",
      " |-- ainvsd451alarm_value_d: double (nullable = true)\n",
      " |-- ainvsd451curr_value_d: double (nullable = true)\n",
      " |-- ainvsd451fault1_value_d: double (nullable = true)\n",
      " |-- ainvsd451fault2_value_d: double (nullable = true)\n",
      " |-- ainvsd451freq_value_d: double (nullable = true)\n",
      " |-- ainvsd800alarm_value_d: double (nullable = true)\n",
      " |-- ainvsd800curr_value_d: double (nullable = true)\n",
      " |-- ainvsd800fault1_value_d: double (nullable = true)\n",
      " |-- ainvsd800fault2_value_d: double (nullable = true)\n",
      " |-- ainvsd800freq_value_d: double (nullable = true)\n",
      " |-- ainvsd830alarm_value_d: double (nullable = true)\n",
      " |-- ainvsd830curr_value_d: double (nullable = true)\n",
      " |-- ainvsd830fault1_value_d: double (nullable = true)\n",
      " |-- ainvsd830fault2_value_d: double (nullable = true)\n",
      " |-- ainvsd830freq_value_d: double (nullable = true)\n",
      " |-- ainvt310a_value_d: double (nullable = true)\n",
      " |-- ainvt310b_value_d: double (nullable = true)\n",
      " |-- ainvt310c_value_d: double (nullable = true)\n",
      " |-- ainvt310d_value_d: double (nullable = true)\n",
      " |-- ainvt311a_value_d: double (nullable = true)\n",
      " |-- ainvt311b_value_d: double (nullable = true)\n",
      " |-- ainvt311c_value_d: double (nullable = true)\n",
      " |-- ainvt311d_value_d: double (nullable = true)\n",
      " |-- ainvt312a_value_d: null (nullable = true)\n",
      " |-- ainvt312b_value_d: null (nullable = true)\n",
      " |-- ainvt312c_value_d: null (nullable = true)\n",
      " |-- ainvt312d_value_d: null (nullable = true)\n",
      " |-- ainvt313d_value_d: null (nullable = true)\n",
      " |-- ainyat910_value_d: double (nullable = true)\n",
      " |-- ainyat910spare_value_d: double (nullable = true)\n",
      " |-- ainyte120_value_d: null (nullable = true)\n",
      " |-- ainyte120b_value_d: null (nullable = true)\n",
      " |-- ainyte120c_value_d: null (nullable = true)\n",
      " |-- ainyte120d_value_d: null (nullable = true)\n",
      " |-- ainyte410a_value_d: double (nullable = true)\n",
      " |-- ainyte410b_value_d: double (nullable = true)\n",
      " |-- ainyte410c_value_d: double (nullable = true)\n",
      " |-- ainyte410d_value_d: double (nullable = true)\n",
      " |-- ainyte480_value_d: double (nullable = true)\n",
      " |-- ainzt010_value_d: double (nullable = true)\n",
      " |-- al_ct430_a_active_b: boolean (nullable = true)\n",
      " |-- al_ct430_b_active_b: boolean (nullable = true)\n",
      " |-- al_ct430calc_a_active_b: null (nullable = true)\n",
      " |-- al_ct430calc_b_active_b: null (nullable = true)\n",
      " |-- al_ct450_active_b: boolean (nullable = true)\n",
      " |-- al_cvsalarm_active_b: boolean (nullable = true)\n",
      " |-- aoutejt010_value_d: double (nullable = true)\n",
      " |-- aoutfcv012_value_d: double (nullable = true)\n",
      " |-- aoutfcv140_value_d: double (nullable = true)\n",
      " |-- aouthtr002a_c_value_d: double (nullable = true)\n",
      " |-- aoutpcs_dispkw_value_d: double (nullable = true)\n",
      " |-- aoutpcs_fdelta_value_d: double (nullable = true)\n",
      " |-- aoutpcs_gencontrolword_value_d: double (nullable = true)\n",
      " |-- aoutpcs_mulscontrolword_value_d: double (nullable = true)\n",
      " |-- aoutpcs_statuswordout1_value_d: null (nullable = true)\n",
      " |-- aoutpcs_vdelta_value_d: double (nullable = true)\n",
      " |-- aoutpwr302_value_d: null (nullable = true)\n",
      " |-- aoutpwr901_value_d: null (nullable = true)\n",
      " |-- aoutsod150_value_d: double (nullable = true)\n",
      " |-- aouttcv400_value_d: double (nullable = true)\n",
      " |-- aouttcv480_value_d: double (nullable = true)\n",
      " |-- aoutvsd110_value_d: double (nullable = true)\n",
      " |-- aoutvsd140_value_d: double (nullable = true)\n",
      " |-- aoutvsd151_value_d: double (nullable = true)\n",
      " |-- aoutvsd451_value_d: double (nullable = true)\n",
      " |-- aoutvsd800_value_d: double (nullable = true)\n",
      " |-- aoutvsd830_value_d: double (nullable = true)\n",
      " |-- astatenumber_i: integer (nullable = true)\n",
      " |-- bs_ct430_b: boolean (nullable = true)\n",
      " |-- bs_ct435_b: null (nullable = true)\n",
      " |-- bs_ct450_b: boolean (nullable = true)\n",
      " |-- bs_extpowmeas_b: boolean (nullable = true)\n",
      " |-- cl010_leadlaga_output_d: double (nullable = true)\n",
      " |-- cl012_digfiltera_output_d: double (nullable = true)\n",
      " |-- cl012_digfilterb_output_d: double (nullable = true)\n",
      " |-- cl012_leadlaga_output_d: double (nullable = true)\n",
      " |-- cl012_leadlagb_output_d: double (nullable = true)\n",
      " |-- cl012_leadlagc_output_d: double (nullable = true)\n",
      " |-- cl012_leadlagd_output_d: double (nullable = true)\n",
      " |-- cl012_pi01_min_d: double (nullable = true)\n",
      " |-- cl012_pi01_sp_d: double (nullable = true)\n",
      " |-- cl012_pi02_sp_d: double (nullable = true)\n",
      " |-- cl012_tempfact_d: double (nullable = true)\n",
      " |-- cl012alt_tempfact_d: null (nullable = true)\n",
      " |-- cl110_clogratio_d: double (nullable = true)\n",
      " |-- cl110_correctionfactor_d: double (nullable = true)\n",
      " |-- cl110_leadlaga_output_d: double (nullable = true)\n",
      " |-- cl110_leadlagb_output_d: double (nullable = true)\n",
      " |-- cl110_pssflowcalc_d: double (nullable = true)\n",
      " |-- cl110_ramp_output_d: double (nullable = true)\n",
      " |-- cl140_ffvalue_d: double (nullable = true)\n",
      " |-- cl140_leadlaga_output_d: double (nullable = true)\n",
      " |-- cl140_leadlagb_output_d: double (nullable = true)\n",
      " |-- cl140_pi01_sp_d: double (nullable = true)\n",
      " |-- cl140_vsd110delta_d: double (nullable = true)\n",
      " |-- cl400_htrkw_d: double (nullable = true)\n",
      " |-- cl400_pi01_ramp_sp_d: double (nullable = true)\n",
      " |-- cl400_pi01_sp_d: double (nullable = true)\n",
      " |-- cl400_pi02_sp_d: double (nullable = true)\n",
      " |-- cl451_pi01_output_d: double (nullable = true)\n",
      " |-- cl830_pi02_output_d: double (nullable = true)\n",
      " |-- cl_ardfb_pwr_d: null (nullable = true)\n",
      " |-- cl_erfb_pwr_d: double (nullable = true)\n",
      " |-- cl_lt400fb_output_d: double (nullable = true)\n",
      " |-- cl_vsd110fb_output_d: double (nullable = true)\n",
      " |-- cl_wtsfb_output_d: double (nullable = true)\n",
      " |-- config_gcidlesdcount_d: double (nullable = true)\n",
      " |-- config_gcsdcount_d: double (nullable = true)\n",
      " |-- config_giattemptcount_d: double (nullable = true)\n",
      " |-- config_giidlesdcount_d: double (nullable = true)\n",
      " |-- config_gisdcount_d: double (nullable = true)\n",
      " |-- config_gitranscount_d: double (nullable = true)\n",
      " |-- config_gitranssdcount_d: double (nullable = true)\n",
      " |-- config_idleattemptcount_d: double (nullable = true)\n",
      " |-- config_idlegcsdcount_d: double (nullable = true)\n",
      " |-- config_idlegisdcount_d: double (nullable = true)\n",
      " |-- config_idlesdcount_d: double (nullable = true)\n",
      " |-- config_idletranscount_d: double (nullable = true)\n",
      " |-- config_idletranssdcount_d: double (nullable = true)\n",
      " |-- cp_anodconf_d: double (nullable = true)\n",
      " |-- cp_ardfbnum_d: null (nullable = true)\n",
      " |-- cp_at161latch_d: null (nullable = true)\n",
      " |-- cp_at162latch_d: null (nullable = true)\n",
      " |-- cp_avgpower_d: double (nullable = true)\n",
      " |-- cp_bairsd_d: double (nullable = true)\n",
      " |-- cp_brnfact1_d: double (nullable = true)\n",
      " |-- cp_brnfact1_ng_d: double (nullable = true)\n",
      " |-- cp_brnfact2_d: double (nullable = true)\n",
      " |-- cp_brownoutgc_cnt_d: double (nullable = true)\n",
      " |-- cp_brownoutgi_cnt_d: double (nullable = true)\n",
      " |-- cp_burner_er_d: double (nullable = true)\n",
      " |-- cp_csaevent1_d: double (nullable = true)\n",
      " |-- cp_csaevent2_d: double (nullable = true)\n",
      " |-- cp_ct430addtime_d: double (nullable = true)\n",
      " |-- cp_ct430calc_d: null (nullable = true)\n",
      " |-- cp_ct430cntrl_d: null (nullable = true)\n",
      " |-- cp_cv441_da_d: null (nullable = true)\n",
      " |-- cp_cvsalarm_d: double (nullable = true)\n",
      " |-- cp_diagnostic_ee_d: double (nullable = true)\n",
      " |-- cp_dispkvar_d: double (nullable = true)\n",
      " |-- cp_downtransminvolt_d: double (nullable = true)\n",
      " |-- cp_eff_elec_d: double (nullable = true)\n",
      " |-- cp_ejt010psat_d: double (nullable = true)\n",
      " |-- cp_ejt010s2ctempfact_d: string (nullable = true)\n",
      " |-- cp_ejt010specgravity_d: double (nullable = true)\n",
      " |-- cp_ejt010steamflow_d: double (nullable = true)\n",
      " |-- cp_ejt010steamtemp_d: double (nullable = true)\n",
      " |-- cp_factor_ng_d: double (nullable = true)\n",
      " |-- cp_failedstart_cnt_d: double (nullable = true)\n",
      " |-- cp_fil110cloggedbaseload_d: double (nullable = true)\n",
      " |-- cp_fil110cloggedfb_d: double (nullable = true)\n",
      " |-- cp_fil110cloggedzep_d: double (nullable = true)\n",
      " |-- cp_fil110nearclogbaseload_d: double (nullable = true)\n",
      " |-- cp_forced_shdwn_cnt_d: double (nullable = true)\n",
      " |-- cp_fs400latch_d: double (nullable = true)\n",
      " |-- cp_ft012act_d: double (nullable = true)\n",
      " |-- cp_ft012da_d: null (nullable = true)\n",
      " |-- cp_ft012eff_d: double (nullable = true)\n",
      " |-- cp_ft012err_d: double (nullable = true)\n",
      " |-- cp_ft012factor_d: double (nullable = true)\n",
      " |-- cp_ft012min_d: double (nullable = true)\n",
      " |-- cp_ft012mon_d: double (nullable = true)\n",
      " |-- cp_fuel_osc_d: null (nullable = true)\n",
      " |-- cp_fuelconf_d: double (nullable = true)\n",
      " |-- cp_fuelfact_ng_d: double (nullable = true)\n",
      " |-- cp_fuelspfact_d: double (nullable = true)\n",
      " |-- cp_fuelspmax_factor_d: double (nullable = true)\n",
      " |-- cp_fuelstarve_d: double (nullable = true)\n",
      " |-- cp_fueltot_d: double (nullable = true)\n",
      " |-- cp_gas_sample_ok_d: double (nullable = true)\n",
      " |-- cp_gctogiatmpt_d: double (nullable = true)\n",
      " |-- cp_gctoidleatmpt_d: double (nullable = true)\n",
      " |-- cp_gctranssuccess_d: double (nullable = true)\n",
      " |-- cp_gigroundfault_d: double (nullable = true)\n",
      " |-- cp_gitranssuccess_d: string (nullable = true)\n",
      " |-- cp_hot_shdwn_mit_cnt_d: double (nullable = true)\n",
      " |-- cp_hot_shdwn_unmit_cnt_d: double (nullable = true)\n",
      " |-- cp_hothrs250_d: double (nullable = true)\n",
      " |-- cp_hotstart_cnt_d: double (nullable = true)\n",
      " |-- cp_hottime_d: double (nullable = true)\n",
      " |-- cp_htr901_ai_d: null (nullable = true)\n",
      " |-- cp_idc_d: double (nullable = true)\n",
      " |-- cp_idcnet_d: double (nullable = true)\n",
      " |-- cp_idcnorm_d: double (nullable = true)\n",
      " |-- cp_kwdc_d: double (nullable = true)\n",
      " |-- cp_lcv452_li_d: double (nullable = true)\n",
      " |-- cp_lcv452ct_d: double (nullable = true)\n",
      " |-- cp_lcv452ctl_d: double (nullable = true)\n",
      " |-- cp_lhv_ng_d: double (nullable = true)\n",
      " |-- cp_loadsd_cnt_d: double (nullable = true)\n",
      " |-- cp_loadtime_d: double (nullable = true)\n",
      " |-- cp_lt450err_d: double (nullable = true)\n",
      " |-- cp_lt450ft_d: double (nullable = true)\n",
      " |-- cp_m_ng_d: double (nullable = true)\n",
      " |-- cp_maxidc_d: double (nullable = true)\n",
      " |-- cp_maxidcmeasure_d: double (nullable = true)\n",
      " |-- cp_molwt_d: double (nullable = true)\n",
      " |-- cp_mwhrsnet_d: double (nullable = true)\n",
      " |-- cp_n205ovr_d: double (nullable = true)\n",
      " |-- cp_ncell_d: double (nullable = true)\n",
      " |-- cp_nstacks_d: double (nullable = true)\n",
      " |-- cp_p_ng_d: double (nullable = true)\n",
      " |-- cp_pdt110utilo2_d: double (nullable = true)\n",
      " |-- cp_pfact_d: double (nullable = true)\n",
      " |-- cp_phimon_d: double (nullable = true)\n",
      " |-- cp_planned_shdwn_cnt_d: double (nullable = true)\n",
      " |-- cp_pt012del_d: double (nullable = true)\n",
      " |-- cp_q_ng_d: double (nullable = true)\n",
      " |-- cp_run_decay_d: double (nullable = true)\n",
      " |-- cp_sd_decay_d: double (nullable = true)\n",
      " |-- cp_sepdel_d: double (nullable = true)\n",
      " |-- cp_sepdel_sd_d: double (nullable = true)\n",
      " |-- cp_sepfact_d: double (nullable = true)\n",
      " |-- cp_shdwn_cnt_d: double (nullable = true)\n",
      " |-- cp_start_cnt_d: double (nullable = true)\n",
      " |-- cp_starttemp_d: double (nullable = true)\n",
      " |-- cp_startvdc_d: double (nullable = true)\n",
      " |-- cp_steam2carbon_d: string (nullable = true)\n",
      " |-- cp_stmfact_d: double (nullable = true)\n",
      " |-- cp_stmfact_ng_d: double (nullable = true)\n",
      " |-- cp_td_gridok_ppc_d: null (nullable = true)\n",
      " |-- cp_te002alarm_d: double (nullable = true)\n",
      " |-- cp_te002ft_d: double (nullable = true)\n",
      " |-- cp_te005ft_d: double (nullable = true)\n",
      " |-- cp_te012avg_d: double (nullable = true)\n",
      " |-- cp_te012ft_d: double (nullable = true)\n",
      " |-- cp_te321min_d: null (nullable = true)\n",
      " |-- cp_te400ft_d: double (nullable = true)\n",
      " |-- cp_te431_limit_d: double (nullable = true)\n",
      " |-- cp_tempdel_d: double (nullable = true)\n",
      " |-- cp_uh2_big_spike_d: null (nullable = true)\n",
      " |-- cp_uh2_spike_d: null (nullable = true)\n",
      " |-- cp_uh2_utilization_d: string (nullable = true)\n",
      " |-- cp_vdc310a_bot_d: null (nullable = true)\n",
      " |-- cp_vdc310a_top_d: null (nullable = true)\n",
      " |-- cp_vdc310b_bot_d: null (nullable = true)\n",
      " |-- cp_vdc310b_top_d: null (nullable = true)\n",
      " |-- cp_vdc310c_bot_d: null (nullable = true)\n",
      " |-- cp_vdc310c_top_d: null (nullable = true)\n",
      " |-- cp_vdc310d_bot_d: null (nullable = true)\n",
      " |-- cp_vdc310d_top_d: null (nullable = true)\n",
      " |-- cp_vdctot_cell_d: double (nullable = true)\n",
      " |-- cp_vdctot_d: double (nullable = true)\n",
      " |-- cp_vdctota_d: double (nullable = true)\n",
      " |-- cp_vdctotb_d: double (nullable = true)\n",
      " |-- cp_vdctotc_d: double (nullable = true)\n",
      " |-- cp_vdctotd_d: double (nullable = true)\n",
      " |-- cp_vdctotdelab_d: double (nullable = true)\n",
      " |-- cp_vdctotdelac_d: double (nullable = true)\n",
      " |-- cp_vdctotdelad_d: double (nullable = true)\n",
      " |-- cp_vdctotdelbc_d: double (nullable = true)\n",
      " |-- cp_vdctotdelbd_d: double (nullable = true)\n",
      " |-- cp_vdctotdelcd_d: double (nullable = true)\n",
      " |-- cp_vdctotmean_d: double (nullable = true)\n",
      " |-- cp_vt310dela_d: double (nullable = true)\n",
      " |-- cp_vt310delb_d: double (nullable = true)\n",
      " |-- cp_vt310delc_d: double (nullable = true)\n",
      " |-- cp_vt310deld_d: double (nullable = true)\n",
      " |-- cp_wair_d: double (nullable = true)\n",
      " |-- cp_wair_drift_high_d: null (nullable = true)\n",
      " |-- cp_wair_drift_low_d: null (nullable = true)\n",
      " |-- cp_wd_lor_d: double (nullable = true)\n",
      " |-- cp_wtsfb_d: double (nullable = true)\n",
      " |-- cp_zt010del_d: double (nullable = true)\n",
      " |-- cstatenumber_i: integer (nullable = true)\n",
      " |-- datetime_iso8601_utc_s: string (nullable = true)\n",
      " |-- day_i: integer (nullable = true)\n",
      " |-- dinat160status_value_b: null (nullable = true)\n",
      " |-- dinbc_sd_value_b: boolean (nullable = true)\n",
      " |-- dinburneron_value_b: boolean (nullable = true)\n",
      " |-- dincleanstatus_value_b: null (nullable = true)\n",
      " |-- dincustestop_value_b: null (nullable = true)\n",
      " |-- dincustnormsd_value_b: boolean (nullable = true)\n",
      " |-- dincv000status_value_b: boolean (nullable = true)\n",
      " |-- dinfs140_value_b: boolean (nullable = true)\n",
      " |-- dinfs160_value_b: boolean (nullable = true)\n",
      " |-- dinfs400_value_b: boolean (nullable = true)\n",
      " |-- dinfs490_value_b: null (nullable = true)\n",
      " |-- dingfd110_value_b: null (nullable = true)\n",
      " |-- dingfd132_value_b: null (nullable = true)\n",
      " |-- dingfdbender_value_b: boolean (nullable = true)\n",
      " |-- dingfdfault_value_b: null (nullable = true)\n",
      " |-- dingfdmanifold_value_b: boolean (nullable = true)\n",
      " |-- dinheattracealarm_value_b: boolean (nullable = true)\n",
      " |-- dinindoorstatus_value_b: boolean (nullable = true)\n",
      " |-- dinlocalestop_value_b: null (nullable = true)\n",
      " |-- dinloiautotrans_value_b: null (nullable = true)\n",
      " |-- dinloishutdown_value_b: boolean (nullable = true)\n",
      " |-- dinlorstatus_value_b: boolean (nullable = true)\n",
      " |-- dinlorstatusbit2_value_b: boolean (nullable = true)\n",
      " |-- dinlorstatusbit3_value_b: boolean (nullable = true)\n",
      " |-- dinnoisystatus_value_b: null (nullable = true)\n",
      " |-- dinpcs_wdt_value_b: null (nullable = true)\n",
      " |-- dinpowersupplystatus_value_b: boolean (nullable = true)\n",
      " |-- dinppc_wdt_value_b: null (nullable = true)\n",
      " |-- dinps700_value_b: boolean (nullable = true)\n",
      " |-- dinpurge_value_b: boolean (nullable = true)\n",
      " |-- dinrack1status_value_b: null (nullable = true)\n",
      " |-- dinrack2status_value_b: null (nullable = true)\n",
      " |-- dinrack4status_value_b: null (nullable = true)\n",
      " |-- dinrack5status_value_b: boolean (nullable = true)\n",
      " |-- dinrack6status_value_b: boolean (nullable = true)\n",
      " |-- dinthermfuse_value_b: null (nullable = true)\n",
      " |-- dints110_value_b: null (nullable = true)\n",
      " |-- dints451_value_b: boolean (nullable = true)\n",
      " |-- dinupsstatus_value_b: boolean (nullable = true)\n",
      " |-- dinzso441_value_b: null (nullable = true)\n",
      " |-- doutac150_value_b: null (nullable = true)\n",
      " |-- doutauxpowerstatus_value_b: null (nullable = true)\n",
      " |-- doutbc_en_value_b: boolean (nullable = true)\n",
      " |-- doutbc_reset_value_b: boolean (nullable = true)\n",
      " |-- doutblower110_value_b: boolean (nullable = true)\n",
      " |-- doutblower140_value_b: boolean (nullable = true)\n",
      " |-- doutcv001_value_b: boolean (nullable = true)\n",
      " |-- doutcv020_value_b: boolean (nullable = true)\n",
      " |-- doutcv130_value_b: boolean (nullable = true)\n",
      " |-- doutcv441_value_b: null (nullable = true)\n",
      " |-- doutcv500_value_b: boolean (nullable = true)\n",
      " |-- doutcv550_value_b: boolean (nullable = true)\n",
      " |-- doutcv710_value_b: boolean (nullable = true)\n",
      " |-- doutcv711_value_b: boolean (nullable = true)\n",
      " |-- doutcv712_value_b: boolean (nullable = true)\n",
      " |-- doutcv713_value_b: boolean (nullable = true)\n",
      " |-- doutcv720_value_b: boolean (nullable = true)\n",
      " |-- doutdl001_value_b: null (nullable = true)\n",
      " |-- doutfan150_value_b: null (nullable = true)\n",
      " |-- doutfan151_value_b: null (nullable = true)\n",
      " |-- doutfan151obs_value_b: boolean (nullable = true)\n",
      " |-- doutfan160_value_b: boolean (nullable = true)\n",
      " |-- doutfan800_value_b: boolean (nullable = true)\n",
      " |-- doutfcv430_value_b: boolean (nullable = true)\n",
      " |-- doutgimodecust_value_b: boolean (nullable = true)\n",
      " |-- doutheater400a_value_b: boolean (nullable = true)\n",
      " |-- doutheater400b_value_b: boolean (nullable = true)\n",
      " |-- doutheater400c_value_b: boolean (nullable = true)\n",
      " |-- doutheater400d_value_b: boolean (nullable = true)\n",
      " |-- douthgheatready_value_b: boolean (nullable = true)\n",
      " |-- doutindoorventfan_value_b: boolean (nullable = true)\n",
      " |-- doutlcv435_value_b: null (nullable = true)\n",
      " |-- doutlcv451_value_b: boolean (nullable = true)\n",
      " |-- doutlcv452_value_b: boolean (nullable = true)\n",
      " |-- doutlgheatready_value_b: boolean (nullable = true)\n",
      " |-- doutlorstatus_value_b: boolean (nullable = true)\n",
      " |-- doutlpgbox_value_b: null (nullable = true)\n",
      " |-- doutpower002_value_b: boolean (nullable = true)\n",
      " |-- doutpump400_value_b: boolean (nullable = true)\n",
      " |-- doutpump435_value_b: null (nullable = true)\n",
      " |-- doutpump450_value_b: boolean (nullable = true)\n",
      " |-- doutpump451_value_b: boolean (nullable = true)\n",
      " |-- doutpump830_value_b: boolean (nullable = true)\n",
      " |-- doutwdt1_value_b: boolean (nullable = true)\n",
      " |-- doutwdt2_value_b: boolean (nullable = true)\n",
      " |-- doutwdtreset_value_b: null (nullable = true)\n",
      " |-- fcv500_leadlaga_output_d: double (nullable = true)\n",
      " |-- fcv500_output_d: double (nullable = true)\n",
      " |-- foldbackflag_b: boolean (nullable = true)\n",
      " |-- hour_i: integer (nullable = true)\n",
      " |-- istatenumber_i: integer (nullable = true)\n",
      " |-- lstatenumber_i: integer (nullable = true)\n",
      " |-- minute_i: integer (nullable = true)\n",
      " |-- month_i: integer (nullable = true)\n",
      " |-- nstatenumber_i: integer (nullable = true)\n",
      " |-- operin_wdt_reset_b: boolean (nullable = true)\n",
      " |-- opt_discprotflag_b: boolean (nullable = true)\n",
      " |-- pcs_apccrsword_i: integer (nullable = true)\n",
      " |-- pcs_auto_rtn_b: boolean (nullable = true)\n",
      " |-- pcs_cabinet_temp_i: null (nullable = true)\n",
      " |-- pcs_currentunbalance_b: boolean (nullable = true)\n",
      " |-- pcs_d007overtemp_b: boolean (nullable = true)\n",
      " |-- pcs_dcgroundshifthi_b: boolean (nullable = true)\n",
      " |-- pcs_ecstempsensor_b: boolean (nullable = true)\n",
      " |-- pcs_ed_gc_obs_b: boolean (nullable = true)\n",
      " |-- pcs_ed_gi_obs_b: boolean (nullable = true)\n",
      " |-- pcs_fan150opwarn_b: boolean (nullable = true)\n",
      " |-- pcs_fastswitchovertemp_b: boolean (nullable = true)\n",
      " |-- pcs_faults_1_i: null (nullable = true)\n",
      " |-- pcs_faults_2_i: null (nullable = true)\n",
      " |-- pcs_filcap_curr_pha_i: null (nullable = true)\n",
      " |-- pcs_filcap_curr_phb_i: null (nullable = true)\n",
      " |-- pcs_filcap_curr_phc_i: null (nullable = true)\n",
      " |-- pcs_fsw_error_b: null (nullable = true)\n",
      " |-- pcs_fsw_error_obs_b: boolean (nullable = true)\n",
      " |-- pcs_generalwarning_b: boolean (nullable = true)\n",
      " |-- pcs_gridok_b: boolean (nullable = true)\n",
      " |-- pcs_i26_b: null (nullable = true)\n",
      " |-- pcs_inlettempsensor_b: boolean (nullable = true)\n",
      " |-- pcs_loadoverfreq_b: boolean (nullable = true)\n",
      " |-- pcs_loadovervoltage_b: boolean (nullable = true)\n",
      " |-- pcs_loadunderfreq_b: boolean (nullable = true)\n",
      " |-- pcs_loadundervoltage_b: boolean (nullable = true)\n",
      " |-- pcs_lowdcpower_b: boolean (nullable = true)\n",
      " |-- pcs_lowdcvoltage_b: boolean (nullable = true)\n",
      " |-- pcs_main_stat_1_i: null (nullable = true)\n",
      " |-- pcs_main_stat_2_i: null (nullable = true)\n",
      " |-- pcs_masterwarning_b: boolean (nullable = true)\n",
      " |-- pcs_modulehot_b: boolean (nullable = true)\n",
      " |-- pcs_notat100percent_b: boolean (nullable = true)\n",
      " |-- pcs_opencurrunbalance_b: boolean (nullable = true)\n",
      " |-- pcs_overloaded_b: boolean (nullable = true)\n",
      " |-- pcs_pcs100faultword2_i: integer (nullable = true)\n",
      " |-- pcs_pcs100warning_b: boolean (nullable = true)\n",
      " |-- pcs_powernotmet_b: boolean (nullable = true)\n",
      " |-- pcs_pp0_temp_i: null (nullable = true)\n",
      " |-- pcs_pp1_temp_i: null (nullable = true)\n",
      " |-- pcs_sod152poswarn_b: boolean (nullable = true)\n",
      " |-- pcs_systemoverload_b: boolean (nullable = true)\n",
      " |-- pcs_undervoltdisconn_b: boolean (nullable = true)\n",
      " |-- pcs_voltageunbalance_b: boolean (nullable = true)\n",
      " |-- pcs_zeroseqvolthigh_b: boolean (nullable = true)\n",
      " |-- pdt402_high_d: null (nullable = true)\n",
      " |-- pdt402_low_d: null (nullable = true)\n",
      " |-- power_plant_id_i: integer (nullable = true)\n",
      " |-- pstatenumber_i: integer (nullable = true)\n",
      " |-- record_id_s: string (nullable = true)\n",
      " |-- rstatenumber_i: integer (nullable = true)\n",
      " |-- sd_ct430_a_active_b: boolean (nullable = true)\n",
      " |-- sd_ct430_b_active_b: boolean (nullable = true)\n",
      " |-- sd_ct450_active_b: boolean (nullable = true)\n",
      " |-- sd_custnormsd_active_b: boolean (nullable = true)\n",
      " |-- second_i: integer (nullable = true)\n",
      " |-- sstatenumber_i: integer (nullable = true)\n",
      " |-- sys_planttimesec_i: integer (nullable = true)\n",
      " |-- sys_softbuildrev_i: integer (nullable = true)\n",
      " |-- sys_softfrversion_i: integer (nullable = true)\n",
      " |-- sys_softhmimajorrev_i: integer (nullable = true)\n",
      " |-- sys_softhmiminorrev_i: integer (nullable = true)\n",
      " |-- unix_time_millis_utc_i: long (nullable = true)\n",
      " |-- vsd110_output_d: double (nullable = true)\n",
      " |-- vsd400_output_d: double (nullable = true)\n",
      " |-- vsd800_output_d: double (nullable = true)\n",
      " |-- vsd830_output_d: double (nullable = true)\n",
      " |-- wstatenumber_i: integer (nullable = true)\n",
      " |-- year_i: integer (nullable = true)\n",
      " |-- ainr5s5c8spare_value_d: double (nullable = true)\n",
      " |-- cp_fbdur_d: double (nullable = true)\n",
      " |-- cp_te001ft_d: double (nullable = true)\n",
      " |-- cp_vsd451di_d: double (nullable = true)\n",
      " |-- pcs_board_temp_i: null (nullable = true)\n",
      " |-- pcs_grid_freq_i: null (nullable = true)\n",
      " |-- pcs_grid_kvar_i: null (nullable = true)\n",
      " |-- pcs_grid_kw_i: null (nullable = true)\n",
      " |-- pcs_idc_feedback_i: null (nullable = true)\n",
      " |-- pcs_inv_curr_i: null (nullable = true)\n",
      " |-- pcs_inv_dc_bus_i: null (nullable = true)\n",
      " |-- pcs_inv_kvar_i: null (nullable = true)\n",
      " |-- pcs_inv_pwr_i: null (nullable = true)\n",
      " |-- pcs_inv_volts_i: null (nullable = true)\n",
      " |-- pcs_pp_a_temp_i: null (nullable = true)\n",
      " |-- pcs_pp_b_temp_i: null (nullable = true)\n",
      " |-- pcs_pp_temp_i: null (nullable = true)\n",
      " |-- pcs_pp_c_temp_i: null (nullable = true)\n",
      " |-- record_partition_date: string (nullable = true)\n",
      " |-- compaction_id: string (nullable = true)\n",
      " |-- partition_3: string (nullable = true)"
     ]
    }
   ],
   "source": [
    "df_a.printSchema()"
   ]
  },
  {
   "cell_type": "code",
   "execution_count": 8,
   "metadata": {},
   "outputs": [
    {
     "data": {
      "application/vnd.jupyter.widget-view+json": {
       "model_id": "b37785ba53d54147a50f1a1d5b4ab8d0",
       "version_major": 2,
       "version_minor": 0
      },
      "text/plain": [
       "FloatProgress(value=0.0, bar_style='info', description='Progress:', layout=Layout(height='25px', width='50%'),…"
      ]
     },
     "metadata": {},
     "output_type": "display_data"
    },
    {
     "name": "stdout",
     "output_type": "stream",
     "text": [
      "+-------+------------------+\n",
      "|summary|  ainat160_value_d|\n",
      "+-------+------------------+\n",
      "|  count|             10000|\n",
      "|   mean| 6.024374980056286|\n",
      "| stddev|3.6867223613722095|\n",
      "|    min|0.4459261894226074|\n",
      "|    max| 12.39466381072998|\n",
      "+-------+------------------+"
     ]
    }
   ],
   "source": [
    "df_a.describe(['value_a']).show()"
   ]
  },
  {
   "cell_type": "code",
   "execution_count": 9,
   "metadata": {},
   "outputs": [
    {
     "data": {
      "application/vnd.jupyter.widget-view+json": {
       "model_id": "1d2978ff55aa4fc5b46b480b10bd6423",
       "version_major": 2,
       "version_minor": 0
      },
      "text/plain": [
       "FloatProgress(value=0.0, bar_style='info', description='Progress:', layout=Layout(height='25px', width='50%'),…"
      ]
     },
     "metadata": {},
     "output_type": "display_data"
    },
    {
     "name": "stdout",
     "output_type": "stream",
     "text": [
      "+-------+------------------+\n",
      "|summary|  ainat160_value_d|\n",
      "+-------+------------------+\n",
      "|  count|             10000|\n",
      "|   mean| 6.024374980056286|\n",
      "| stddev|3.6867223613722095|\n",
      "|    min|0.4459261894226074|\n",
      "|    25%|1.0007023811340332|\n",
      "|    50%| 6.811797618865967|\n",
      "|    75%| 8.946630477905273|\n",
      "|    max| 12.39466381072998|\n",
      "+-------+------------------+"
     ]
    }
   ],
   "source": [
    "#When you use 'summary' instead of 'describe' it shows more detail information about data like quantiles\n",
    "df_a.select('value_a').summary().show()"
   ]
  },
  {
   "cell_type": "code",
   "execution_count": 11,
   "metadata": {},
   "outputs": [
    {
     "data": {
      "application/vnd.jupyter.widget-view+json": {
       "model_id": "f9e69c58eb844b06a6a9e97f41b5fe1c",
       "version_major": 2,
       "version_minor": 0
      },
      "text/plain": [
       "FloatProgress(value=0.0, bar_style='info', description='Progress:', layout=Layout(height='25px', width='50%'),…"
      ]
     },
     "metadata": {},
     "output_type": "display_data"
    },
    {
     "name": "stdout",
     "output_type": "stream",
     "text": [
      "[Row(processing_time=1556065073077), Row(processing_time=1556657541428), Row(processing_time=1556065073077)]"
     ]
    }
   ],
   "source": [
    "df_a.select('timestamp_na').head(3)"
   ]
  },
  {
   "cell_type": "code",
   "execution_count": 12,
   "metadata": {},
   "outputs": [
    {
     "data": {
      "application/vnd.jupyter.widget-view+json": {
       "model_id": "434ed8eecd634de285b09519528ee3ea",
       "version_major": 2,
       "version_minor": 0
      },
      "text/plain": [
       "FloatProgress(value=0.0, bar_style='info', description='Progress:', layout=Layout(height='25px', width='50%'),…"
      ]
     },
     "metadata": {},
     "output_type": "display_data"
    },
    {
     "name": "stdout",
     "output_type": "stream",
     "text": [
      "Row(from_unixtime((processing_time / 1000), yyyy-MM-dd HH:mm:ss)='2019-04-24 00:17:53')"
     ]
    }
   ],
   "source": [
    "# Data Cleansing: When the value of timestamp_ap is like '1548883419015', convert it to normal timestamp formation.\n",
    "df_a.select(from_unixtime(col('timestamp_na')/1000)).head()"
   ]
  },
  {
   "cell_type": "code",
   "execution_count": 13,
   "metadata": {},
   "outputs": [
    {
     "data": {
      "application/vnd.jupyter.widget-view+json": {
       "model_id": "bd6e51bebf464eb79e9be4728f465477",
       "version_major": 2,
       "version_minor": 0
      },
      "text/plain": [
       "FloatProgress(value=0.0, bar_style='info', description='Progress:', layout=Layout(height='25px', width='50%'),…"
      ]
     },
     "metadata": {},
     "output_type": "display_data"
    },
    {
     "name": "stdout",
     "output_type": "stream",
     "text": [
      "Row(record_timestamp=1556064777170)"
     ]
    }
   ],
   "source": [
    "df_a.select('timestamp_ap').head()"
   ]
  },
  {
   "cell_type": "code",
   "execution_count": 14,
   "metadata": {},
   "outputs": [
    {
     "data": {
      "application/vnd.jupyter.widget-view+json": {
       "model_id": "9de635fcbb994535bd628f44f215b771",
       "version_major": 2,
       "version_minor": 0
      },
      "text/plain": [
       "FloatProgress(value=0.0, bar_style='info', description='Progress:', layout=Layout(height='25px', width='50%'),…"
      ]
     },
     "metadata": {},
     "output_type": "display_data"
    },
    {
     "name": "stdout",
     "output_type": "stream",
     "text": [
      "Row(from_unixtime((record_timestamp / 1000), yyyy-MM-dd HH:mm:ss)='2019-04-24 00:12:57')"
     ]
    }
   ],
   "source": [
    "df_a.select(from_unixtime(col('timestamp_ap')/1000)).head()"
   ]
  },
  {
   "cell_type": "code",
   "execution_count": 15,
   "metadata": {},
   "outputs": [
    {
     "data": {
      "application/vnd.jupyter.widget-view+json": {
       "model_id": "1e467c35394b42a18f7e0419a1e074cb",
       "version_major": 2,
       "version_minor": 0
      },
      "text/plain": [
       "FloatProgress(value=0.0, bar_style='info', description='Progress:', layout=Layout(height='25px', width='50%'),…"
      ]
     },
     "metadata": {},
     "output_type": "display_data"
    }
   ],
   "source": [
    "df_a_tmp = df_a\\\n",
    "    .withColumn('converted_timestamp_na' , from_unixtime(col('timestamp_na')/1000))\\\n",
    "    .withColumn('converted_timestamp_ap', from_unixtime(col('timestamp_ap')/1000))"
   ]
  },
  {
   "cell_type": "code",
   "execution_count": 16,
   "metadata": {},
   "outputs": [
    {
     "data": {
      "application/vnd.jupyter.widget-view+json": {
       "model_id": "ebd40f98bf1d4cc594990b3f5013efb4",
       "version_major": 2,
       "version_minor": 0
      },
      "text/plain": [
       "FloatProgress(value=0.0, bar_style='info', description='Progress:', layout=Layout(height='25px', width='50%'),…"
      ]
     },
     "metadata": {},
     "output_type": "display_data"
    },
    {
     "name": "stdout",
     "output_type": "stream",
     "text": [
      "+-------------------------+--------------------------+\n",
      "|converted_processing_time|converted_record_timestamp|\n",
      "+-------------------------+--------------------------+\n",
      "|      2019-04-24 00:17:53|       2019-04-24 00:12:57|\n",
      "|      2019-04-30 20:52:21|       2019-04-30 20:48:33|\n",
      "|      2019-04-24 00:17:53|       2019-04-24 00:12:58|\n",
      "|      2019-04-30 20:52:21|       2019-04-30 20:48:34|\n",
      "|      2019-04-24 00:17:53|       2019-04-24 00:12:59|\n",
      "+-------------------------+--------------------------+\n",
      "only showing top 5 rows"
     ]
    }
   ],
   "source": [
    "df_a_tmp.select('converted_timestamp_na','converted_timestamp_ap').show(5)\n"
   ]
  },
  {
   "cell_type": "code",
   "execution_count": 17,
   "metadata": {},
   "outputs": [
    {
     "data": {
      "application/vnd.jupyter.widget-view+json": {
       "model_id": "bc45226d50dd4c3ebfae310d2dfe2cfd",
       "version_major": 2,
       "version_minor": 0
      },
      "text/plain": [
       "FloatProgress(value=0.0, bar_style='info', description='Progress:', layout=Layout(height='25px', width='50%'),…"
      ]
     },
     "metadata": {},
     "output_type": "display_data"
    }
   ],
   "source": [
    "dyf_cleasing = DynamicFrame.fromDF(df_a_tmp,glueContext,'test')"
   ]
  },
  {
   "cell_type": "code",
   "execution_count": 18,
   "metadata": {},
   "outputs": [
    {
     "data": {
      "application/vnd.jupyter.widget-view+json": {
       "model_id": "2573c46c71c04baa81e45b6a86fd3bee",
       "version_major": 2,
       "version_minor": 0
      },
      "text/plain": [
       "FloatProgress(value=0.0, bar_style='info', description='Progress:', layout=Layout(height='25px', width='50%'),…"
      ]
     },
     "metadata": {},
     "output_type": "display_data"
    }
   ],
   "source": [
    "datasink0 = glueContext.write_dynamic_frame.from_options(\\\n",
    "                                                         frame = dyf_cleasing,\\\n",
    "                                                         connection_type = \"s3\",\\\n",
    "                                                         connection_options = {\"path\": \"s3a://datalake/etl_sample/\"},\\\n",
    "                                                         format = \"parquet\", transformation_ctx = \"datasink0\")"
   ]
  },
  {
   "cell_type": "code",
   "execution_count": null,
   "metadata": {},
   "outputs": [],
   "source": []
  }
 ],
 "metadata": {
  "kernelspec": {
   "display_name": "Python 3",
   "language": "python",
   "name": "python3"
  },
  "language_info": {
   "codemirror_mode": {
    "name": "ipython",
    "version": 3
   },
   "file_extension": ".py",
   "mimetype": "text/x-python",
   "name": "python",
   "nbconvert_exporter": "python",
   "pygments_lexer": "ipython3",
   "version": "3.6.7"
  }
 },
 "nbformat": 4,
 "nbformat_minor": 4
}
