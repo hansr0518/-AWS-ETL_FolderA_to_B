{
 "cells": [
  {
   "cell_type": "code",
   "execution_count": 1,
   "metadata": {},
   "outputs": [
    {
     "name": "stdout",
     "output_type": "stream",
     "text": [
      "Starting Spark application\n"
     ]
    },
    {
     "data": {
      "text/html": [
       "<table>\n",
       "<tr><th>ID</th><th>YARN Application ID</th><th>Kind</th><th>State</th><th>Spark UI</th><th>Driver log</th><th>Current session?</th></tr><tr><td>3</td><td>application_1574832680492_0004</td><td>pyspark</td><td>idle</td><td><a target=\"_blank\" href=\"http://ip-172-32-175-52.ec2.internal:20888/proxy/application_1574832680492_0004/\">Link</a></td><td><a target=\"_blank\" href=\"http://ip-172-32-178-127.ec2.internal:8042/node/containerlogs/container_1574832680492_0004_01_000001/livy\">Link</a></td><td>✔</td></tr></table>"
      ],
      "text/plain": [
       "<IPython.core.display.HTML object>"
      ]
     },
     "metadata": {},
     "output_type": "display_data"
    },
    {
     "data": {
      "application/vnd.jupyter.widget-view+json": {
       "model_id": "c58a3a4d949c4e99aa3208e23145aae0",
       "version_major": 2,
       "version_minor": 0
      },
      "text/plain": [
       "FloatProgress(value=0.0, bar_style='info', description='Progress:', layout=Layout(height='25px', width='50%'),…"
      ]
     },
     "metadata": {},
     "output_type": "display_data"
    },
    {
     "name": "stdout",
     "output_type": "stream",
     "text": [
      "SparkSession available as 'spark'.\n"
     ]
    },
    {
     "data": {
      "application/vnd.jupyter.widget-view+json": {
       "model_id": "303567f1c5f345aaad518f62c24ce767",
       "version_major": 2,
       "version_minor": 0
      },
      "text/plain": [
       "FloatProgress(value=0.0, bar_style='info', description='Progress:', layout=Layout(height='25px', width='50%'),…"
      ]
     },
     "metadata": {},
     "output_type": "display_data"
    }
   ],
   "source": [
    "import sys\n",
    "from awsglue.transforms import *\n",
    "from awsglue.utils import getResolvedOptions\n",
    "from pyspark.context import SparkContext\n",
    "from awsglue.context import GlueContext\n",
    "from awsglue.job import Job\n",
    "from awsglue.dynamicframe import DynamicFrame\n",
    "from pyspark.sql.functions import from_unixtime,col\n"
   ]
  },
  {
   "cell_type": "code",
   "execution_count": 2,
   "metadata": {},
   "outputs": [
    {
     "data": {
      "application/vnd.jupyter.widget-view+json": {
       "model_id": "0a23d6f6a3154c219fe4121f66750015",
       "version_major": 2,
       "version_minor": 0
      },
      "text/plain": [
       "FloatProgress(value=0.0, bar_style='info', description='Progress:', layout=Layout(height='25px', width='50%'),…"
      ]
     },
     "metadata": {},
     "output_type": "display_data"
    }
   ],
   "source": [
    "glueContext = GlueContext(SparkContext.getOrCreate())"
   ]
  },
  {
   "cell_type": "code",
   "execution_count": 3,
   "metadata": {},
   "outputs": [
    {
     "data": {
      "application/vnd.jupyter.widget-view+json": {
       "model_id": "3f8ae35733d1435a92faac4329d43df5",
       "version_major": 2,
       "version_minor": 0
      },
      "text/plain": [
       "FloatProgress(value=0.0, bar_style='info', description='Progress:', layout=Layout(height='25px', width='50%'),…"
      ]
     },
     "metadata": {},
     "output_type": "display_data"
    }
   ],
   "source": [
    "db_name = 'db'\n",
    "tbl_name = 'table1'\n",
    "dynamic_frame_a = glueContext.create_dynamic_frame.from_catalog(database = db_name, table_name = tbl_name)\n"
   ]
  },
  {
   "cell_type": "code",
   "execution_count": 4,
   "metadata": {
    "collapsed": true,
    "jupyter": {
     "outputs_hidden": true
    }
   },
   "outputs": [
    {
     "data": {
      "application/vnd.jupyter.widget-view+json": {
       "model_id": "c07330e6e0194d298fc1ab5a42a60a34",
       "version_major": 2,
       "version_minor": 0
      },
      "text/plain": [
       "FloatProgress(value=0.0, bar_style='info', description='Progress:', layout=Layout(height='25px', width='50%'),…"
      ]
     },
     "metadata": {},
     "output_type": "display_data"
    },
    {
     "name": "stdout",
     "output_type": "stream",
     "text": [
      "root\n",
      "|-- processing_time: long\n",
      "|-- record_timestamp: long\n",
      "|-- .... \n",
      "|-- partition_3: string"
     ]
    }
   ],
   "source": [
    "dynamic_frame_a.printSchema()\n"
   ]
  },
  {
   "cell_type": "code",
   "execution_count": 5,
   "metadata": {},
   "outputs": [
    {
     "data": {
      "application/vnd.jupyter.widget-view+json": {
       "model_id": "4b7d4953de054f31a1d18c22c7d7e133",
       "version_major": 2,
       "version_minor": 0
      },
      "text/plain": [
       "FloatProgress(value=0.0, bar_style='info', description='Progress:', layout=Layout(height='25px', width='50%'),…"
      ]
     },
     "metadata": {},
     "output_type": "display_data"
    },
    {
     "name": "stdout",
     "output_type": "stream",
     "text": [
      "10000"
     ]
    }
   ],
   "source": [
    "dynamic_frame_a.count()"
   ]
  },
  {
   "cell_type": "code",
   "execution_count": 6,
   "metadata": {
    "collapsed": true,
    "jupyter": {
     "outputs_hidden": true
    }
   },
   "outputs": [
    {
     "data": {
      "application/vnd.jupyter.widget-view+json": {
       "model_id": "d913a3882a1f46e39f37b9bfd36d92bf",
       "version_major": 2,
       "version_minor": 0
      },
      "text/plain": [
       "FloatProgress(value=0.0, bar_style='info', description='Progress:', layout=Layout(height='25px', width='50%'),…"
      ]
     },
     "metadata": {},
     "output_type": "display_data"
    },
    {
     "name": "stdout",
     "output_type": "stream",
     "text": [
      "+---------------+--------+--------+---+-----------------+\n",
      "|   timestamp_na| value_a| value_b|...|      partition_3|\n",
      "+---------------+--------+--------+---+-----------------+\n",
      "|  1556065073077|   155.0|    null|...|compacted.parquet|\n",
      "|  1556657541428|   155.0|    null|...|compacted.parquet|\n",
      "|  1556065073077|   155.0|    null|...|compacted.parquet|\n",
      "|  1556657541428|   155.0|    null|...|compacted.parquet|\n",
      "|  1556065073077|   155.0|    null|...|compacted.parquet|\n",
      "+---------------+--------+--------+---+-----------------+\n",
      "only showing top 5 rows"
     ]
    }
   ],
   "source": [
    "df_a = dynamic_frame_a.toDF()\n",
    "df_a.show(5)"
   ]
  },
  {
   "cell_type": "code",
   "execution_count": 7,
   "metadata": {
    "collapsed": true,
    "jupyter": {
     "outputs_hidden": true
    }
   },
   "outputs": [
    {
     "data": {
      "application/vnd.jupyter.widget-view+json": {
       "model_id": "ea556f75b3454b03ac8cd50b5d2de899",
       "version_major": 2,
       "version_minor": 0
      },
      "text/plain": [
       "FloatProgress(value=0.0, bar_style='info', description='Progress:', layout=Layout(height='25px', width='50%'),…"
      ]
     },
     "metadata": {},
     "output_type": "display_data"
    },
    {
     "name": "stdout",
     "output_type": "stream",
     "text": [
      "root\n",
      " |-- processing_time: long (nullable = true)\n",
      " |-- record_timestamp: long (nullable = true)\n",
      " |-- ... \n",
      " |-- partition_3: string (nullable = true)"
     ]
    }
   ],
   "source": [
    "df_a.printSchema()"
   ]
  },
  {
   "cell_type": "code",
   "execution_count": 8,
   "metadata": {},
   "outputs": [
    {
     "data": {
      "application/vnd.jupyter.widget-view+json": {
       "model_id": "b37785ba53d54147a50f1a1d5b4ab8d0",
       "version_major": 2,
       "version_minor": 0
      },
      "text/plain": [
       "FloatProgress(value=0.0, bar_style='info', description='Progress:', layout=Layout(height='25px', width='50%'),…"
      ]
     },
     "metadata": {},
     "output_type": "display_data"
    },
    {
     "name": "stdout",
     "output_type": "stream",
     "text": [
      "+-------+------------------+\n",
      "|summary|           value_a|\n",
      "+-------+------------------+\n",
      "|  count|             10000|\n",
      "|   mean| 6.024374980056286|\n",
      "| stddev|3.6867223613722095|\n",
      "|    min|0.4459261894226074|\n",
      "|    max| 12.39466381072998|\n",
      "+-------+------------------+"
     ]
    }
   ],
   "source": [
    "df_a.describe(['value_a']).show()"
   ]
  },
  {
   "cell_type": "code",
   "execution_count": 9,
   "metadata": {},
   "outputs": [
    {
     "data": {
      "application/vnd.jupyter.widget-view+json": {
       "model_id": "1d2978ff55aa4fc5b46b480b10bd6423",
       "version_major": 2,
       "version_minor": 0
      },
      "text/plain": [
       "FloatProgress(value=0.0, bar_style='info', description='Progress:', layout=Layout(height='25px', width='50%'),…"
      ]
     },
     "metadata": {},
     "output_type": "display_data"
    },
    {
     "name": "stdout",
     "output_type": "stream",
     "text": [
      "+-------+------------------+\n",
      "|summary|           value_a|\n",
      "+-------+------------------+\n",
      "|  count|             10000|\n",
      "|   mean| 6.024374980056286|\n",
      "| stddev|3.6867223613722095|\n",
      "|    min|0.4459261894226074|\n",
      "|    25%|1.0007023811340332|\n",
      "|    50%| 6.811797618865967|\n",
      "|    75%| 8.946630477905273|\n",
      "|    max| 12.39466381072998|\n",
      "+-------+------------------+"
     ]
    }
   ],
   "source": [
    "# When you use 'summary' instead of 'describe' it shows more detail information about data like quantiles\n",
    "df_a.select('value_a').summary().show()"
   ]
  },
  {
   "cell_type": "code",
   "execution_count": 11,
   "metadata": {},
   "outputs": [
    {
     "data": {
      "application/vnd.jupyter.widget-view+json": {
       "model_id": "f9e69c58eb844b06a6a9e97f41b5fe1c",
       "version_major": 2,
       "version_minor": 0
      },
      "text/plain": [
       "FloatProgress(value=0.0, bar_style='info', description='Progress:', layout=Layout(height='25px', width='50%'),…"
      ]
     },
     "metadata": {},
     "output_type": "display_data"
    },
    {
     "name": "stdout",
     "output_type": "stream",
     "text": [
      "[Row(timestamp_na=1556065073077), Row(timestamp_na=1556657541428), Row(timestamp_na=1556065073077)]"
     ]
    }
   ],
   "source": [
    "df_a.select('timestamp_na').head(3)"
   ]
  },
  {
   "cell_type": "code",
   "execution_count": 12,
   "metadata": {},
   "outputs": [
    {
     "data": {
      "application/vnd.jupyter.widget-view+json": {
       "model_id": "434ed8eecd634de285b09519528ee3ea",
       "version_major": 2,
       "version_minor": 0
      },
      "text/plain": [
       "FloatProgress(value=0.0, bar_style='info', description='Progress:', layout=Layout(height='25px', width='50%'),…"
      ]
     },
     "metadata": {},
     "output_type": "display_data"
    },
    {
     "name": "stdout",
     "output_type": "stream",
     "text": [
      "Row(from_unixtime((timestamp_na / 1000), yyyy-MM-dd HH:mm:ss)='2019-04-24 00:17:53')"
     ]
    }
   ],
   "source": [
    "# Data Cleansing: When the value of timestamp_ap is like '1548883419015', convert it to normal timestamp formation.\n",
    "df_a.select(from_unixtime(col('timestamp_na')/1000)).head()"
   ]
  },
  {
   "cell_type": "code",
   "execution_count": 13,
   "metadata": {},
   "outputs": [
    {
     "data": {
      "application/vnd.jupyter.widget-view+json": {
       "model_id": "bd6e51bebf464eb79e9be4728f465477",
       "version_major": 2,
       "version_minor": 0
      },
      "text/plain": [
       "FloatProgress(value=0.0, bar_style='info', description='Progress:', layout=Layout(height='25px', width='50%'),…"
      ]
     },
     "metadata": {},
     "output_type": "display_data"
    },
    {
     "name": "stdout",
     "output_type": "stream",
     "text": [
      "Row(record_timestamp=1556064777170)"
     ]
    }
   ],
   "source": [
    "df_a.select('timestamp_ap').head()"
   ]
  },
  {
   "cell_type": "code",
   "execution_count": 14,
   "metadata": {},
   "outputs": [
    {
     "data": {
      "application/vnd.jupyter.widget-view+json": {
       "model_id": "9de635fcbb994535bd628f44f215b771",
       "version_major": 2,
       "version_minor": 0
      },
      "text/plain": [
       "FloatProgress(value=0.0, bar_style='info', description='Progress:', layout=Layout(height='25px', width='50%'),…"
      ]
     },
     "metadata": {},
     "output_type": "display_data"
    },
    {
     "name": "stdout",
     "output_type": "stream",
     "text": [
      "Row(from_unixtime((record_timestamp / 1000), yyyy-MM-dd HH:mm:ss)='2019-04-24 00:12:57')"
     ]
    }
   ],
   "source": [
    "df_a.select(from_unixtime(col('timestamp_ap')/1000)).head()"
   ]
  },
  {
   "cell_type": "code",
   "execution_count": 15,
   "metadata": {},
   "outputs": [
    {
     "data": {
      "application/vnd.jupyter.widget-view+json": {
       "model_id": "1e467c35394b42a18f7e0419a1e074cb",
       "version_major": 2,
       "version_minor": 0
      },
      "text/plain": [
       "FloatProgress(value=0.0, bar_style='info', description='Progress:', layout=Layout(height='25px', width='50%'),…"
      ]
     },
     "metadata": {},
     "output_type": "display_data"
    }
   ],
   "source": [
    "df_a_tmp = df_a\\\n",
    "    .withColumn('converted_timestamp_na' , from_unixtime(col('timestamp_na')/1000))\\\n",
    "    .withColumn('converted_timestamp_ap', from_unixtime(col('timestamp_ap')/1000))"
   ]
  },
  {
   "cell_type": "code",
   "execution_count": 16,
   "metadata": {},
   "outputs": [
    {
     "data": {
      "application/vnd.jupyter.widget-view+json": {
       "model_id": "ebd40f98bf1d4cc594990b3f5013efb4",
       "version_major": 2,
       "version_minor": 0
      },
      "text/plain": [
       "FloatProgress(value=0.0, bar_style='info', description='Progress:', layout=Layout(height='25px', width='50%'),…"
      ]
     },
     "metadata": {},
     "output_type": "display_data"
    },
    {
     "name": "stdout",
     "output_type": "stream",
     "text": [
      "+-------------------------+--------------------------+\n",
      "|   converted_timestamp_na|    converted_timestamp_ap|\n",
      "+-------------------------+--------------------------+\n",
      "|      2019-04-24 00:17:53|       2019-04-24 00:12:57|\n",
      "|      2019-04-30 20:52:21|       2019-04-30 20:48:33|\n",
      "|      2019-04-24 00:17:53|       2019-04-24 00:12:58|\n",
      "|      2019-04-30 20:52:21|       2019-04-30 20:48:34|\n",
      "|      2019-04-24 00:17:53|       2019-04-24 00:12:59|\n",
      "+-------------------------+--------------------------+\n",
      "only showing top 5 rows"
     ]
    }
   ],
   "source": [
    "df_a_tmp.select('converted_timestamp_na','converted_timestamp_ap').show(5)\n"
   ]
  },
  {
   "cell_type": "code",
   "execution_count": 17,
   "metadata": {},
   "outputs": [
    {
     "data": {
      "application/vnd.jupyter.widget-view+json": {
       "model_id": "bc45226d50dd4c3ebfae310d2dfe2cfd",
       "version_major": 2,
       "version_minor": 0
      },
      "text/plain": [
       "FloatProgress(value=0.0, bar_style='info', description='Progress:', layout=Layout(height='25px', width='50%'),…"
      ]
     },
     "metadata": {},
     "output_type": "display_data"
    }
   ],
   "source": [
    "dyf_cleasing = DynamicFrame.fromDF(df_a_tmp,glueContext,'test')"
   ]
  },
  {
   "cell_type": "code",
   "execution_count": 18,
   "metadata": {},
   "outputs": [
    {
     "data": {
      "application/vnd.jupyter.widget-view+json": {
       "model_id": "2573c46c71c04baa81e45b6a86fd3bee",
       "version_major": 2,
       "version_minor": 0
      },
      "text/plain": [
       "FloatProgress(value=0.0, bar_style='info', description='Progress:', layout=Layout(height='25px', width='50%'),…"
      ]
     },
     "metadata": {},
     "output_type": "display_data"
    }
   ],
   "source": [
    "datasink0 = glueContext.write_dynamic_frame.from_options(\\\n",
    "                                                         frame = dyf_cleasing,\\\n",
    "                                                         connection_type = \"s3\",\\\n",
    "                                                         connection_options = {\"path\": \"s3a://etl_sample/\"},\\\n",
    "                                                         format = \"parquet\", transformation_ctx = \"datasink0\")"
   ]
  },
  {
   "cell_type": "code",
   "execution_count": null,
   "metadata": {},
   "outputs": [],
   "source": []
  }
 ],
 "metadata": {
  "kernelspec": {
   "display_name": "Python 3",
   "language": "python",
   "name": "python3"
  },
  "language_info": {
   "codemirror_mode": {
    "name": "ipython",
    "version": 3
   },
   "file_extension": ".py",
   "mimetype": "text/x-python",
   "name": "python",
   "nbconvert_exporter": "python",
   "pygments_lexer": "ipython3",
   "version": "3.6.7"
  }
 },
 "nbformat": 4,
 "nbformat_minor": 4
}
