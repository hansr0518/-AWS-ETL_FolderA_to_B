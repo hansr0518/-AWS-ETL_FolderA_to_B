{
 "cells": [
  {
   "cell_type": "code",
   "execution_count": null,
   "metadata": {},
   "outputs": [],
   "source": [
    "import sys\n",
    "from awsglue.transforms import *\n",
    "from awsglue.utils import getResolvedOptions\n",
    "from pyspark.context import SparkContext\n",
    "from awsglue.context import GlueContext\n",
    "from awsglue.job import Job\n",
    "from awsglue.dynamicframe import DynamicFrame\n",
    "from pyspark.sql.functions import from_unixtime,col\n",
    "\n",
    "\n",
    "args = getResolvedOptions(sys.argv, ['JOB_NAME'])\n",
    "sc = SparkContext()\n",
    "glueContext = GlueContext(sc)\n",
    "spark = glueContext.spark_session\n",
    "job = Job(glueContext)\n",
    "job.init(args['JOB_NAME'], args)\n",
    "\n",
    "db_name = 'db'\n",
    "tbl_name = 'table1'\n",
    "dynamic_frame_a = glueContext.create_dynamic_frame.from_catalog(database = db_name, table_name = tbl_name, transformation_ctx = \"df_a\")\n",
    "\n",
    "# Data Cleansing: When the value of timestamp_ap is like '1548883419015', convert it to normal timestamp formation.\n",
    "df_a = dynamic_frame_a.toDF()\n",
    "df_a.select(from_unixtime(col('timestamp_na')/1000)).head()\n",
    "df_a.select(from_unixtime(col('timestamp_ap')/1000)).head()\n",
    "df_a_tmp = df_a\\\n",
    "    .withColumn('converted_timestamp_na' , from_unixtime(col('timestamp_na')/1000))\\\n",
    "    .withColumn('converted_timestamp_ap', from_unixtime(col('timestamp_ap')/1000))\n",
    "\n",
    "dyf_cleansing = DynamicFrame.fromDF(df_a_tmp,glueContext,'test')\n",
    "datasink0 = glueContext.write_dynamic_frame.from_options(\\\n",
    "                                                         frame = dyf_cleansing,\\\n",
    "                                                         connection_type = \"s3\",\\\n",
    "                                                         connection_options = {\"path\": \"s3a://dev/cleasing_etl/\"},\\\n",
    "                                                         format = \"parquet\", transformation_ctx = \"datasink0\")\n",
    "job.commit()"
   ]
  }
 ],
 "metadata": {
  "kernelspec": {
   "display_name": "Python 3",
   "language": "python",
   "name": "python3"
  },
  "language_info": {
   "codemirror_mode": {
    "name": "ipython",
    "version": 3
   },
   "file_extension": ".py",
   "mimetype": "text/x-python",
   "name": "python",
   "nbconvert_exporter": "python",
   "pygments_lexer": "ipython3",
   "version": "3.6.7"
  }
 },
 "nbformat": 4,
 "nbformat_minor": 2
}
